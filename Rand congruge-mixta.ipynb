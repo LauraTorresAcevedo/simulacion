{
 "cells": [
  {
   "cell_type": "markdown",
   "metadata": {},
   "source": [
    "# congruencial mixto\n"
   ]
  },
  {
   "cell_type": "code",
   "execution_count": 4,
   "metadata": {
    "collapsed": false
   },
   "outputs": [
    {
     "name": "stdout",
     "output_type": "stream",
     "text": [
      "Ingrese la cantidad de numeros que quiere:8\n",
      "Numeros Aleatorios: [0.2743362831858407, 0.5929203539823009, 0.23008849557522124, 0.504424778761062, 0.05309734513274336, 0.1504424778761062, 0.34513274336283184, 0.7345132743362832]\n"
     ]
    }
   ],
   "source": [
    " def randCm(a, m, b, x0, n):\n",
    "        xn = 0\n",
    "        un = 0\n",
    "        rand = []\n",
    "        for i in range(n):\n",
    "            xn = (a * x0 + b) % m\n",
    "            un = xn / float(m)\n",
    "            x0 = xn\n",
    "            rand.append(un)\n",
    "        return rand \n",
    "    \n",
    "a = 2\n",
    "b = 5\n",
    "m = 113\n",
    "x0 = 13\n",
    "n = input('Ingrese la cantidad de numeros que quiere:')\n",
    "    \n",
    "cm = randCm(a, m, b, x0, n)\n",
    "print 'Numeros Aleatorios:', cm"
   ]
  },
  {
   "cell_type": "code",
   "execution_count": null,
   "metadata": {
    "collapsed": true
   },
   "outputs": [],
   "source": []
  },
  {
   "cell_type": "code",
   "execution_count": null,
   "metadata": {
    "collapsed": true
   },
   "outputs": [],
   "source": []
  }
 ],
 "metadata": {
  "kernelspec": {
   "display_name": "Python 2",
   "language": "python",
   "name": "python2"
  },
  "language_info": {
   "codemirror_mode": {
    "name": "ipython",
    "version": 2
   },
   "file_extension": ".py",
   "mimetype": "text/x-python",
   "name": "python",
   "nbconvert_exporter": "python",
   "pygments_lexer": "ipython2",
   "version": "2.7.11"
  }
 },
 "nbformat": 4,
 "nbformat_minor": 0
}
