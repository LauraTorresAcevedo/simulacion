{
 "cells": [
  {
   "cell_type": "code",
   "execution_count": 8,
   "metadata": {
    "collapsed": false
   },
   "outputs": [
    {
     "name": "stdout",
     "output_type": "stream",
     "text": [
      "Cantidad de Numeros a generar 200\n"
     ]
    }
   ],
   "source": [
    "def variable(l,arreglov,prob):\n",
    "    \n",
    "   \n",
    "    a = 5000   \n",
    "    m = 7000\n",
    "    c = 0\n",
    "    x0 = 100\n",
    "    \n",
    "    while c<l:   \n",
    "\n",
    "        xf = ((a*x0))%m                 \n",
    "        u = float(xf)/m\n",
    "        \n",
    "        v = [0]\n",
    "\n",
    "        for y  in range(len(prob)):\n",
    "            v.append(prob[y]+v[y])\n",
    "                      \n",
    "                \n",
    "        for r in range(len(prob)):\n",
    "            if v[r] < u < v[r+1]:\n",
    "                variable_para_graficar.append(arreglov[r])    \n",
    "                ## variable_para_graficar\n",
    "            else:\n",
    "                pass\n",
    "        \n",
    "        c = c+1\n",
    "        x0 = xf\n",
    "    return variable_para_graficar\n",
    "\n",
    "\n",
    "np=0.16666667\n",
    "variable_para_graficar = []\n",
    "l = input(\"Cantidad de Numeros a generar \")\n",
    "variable(l,[1,2,3,4,5,6],[np,np,np,np,np,np])\n",
    "\n",
    "from matplotlib.pylab import hist, show\n",
    "hist(variable_para_graficar,7, (0,7))    \n",
    "show()"
   ]
  },
  {
   "cell_type": "code",
   "execution_count": null,
   "metadata": {
    "collapsed": true
   },
   "outputs": [],
   "source": []
  }
 ],
 "metadata": {
  "kernelspec": {
   "display_name": "Python 2",
   "language": "python",
   "name": "python2"
  },
  "language_info": {
   "codemirror_mode": {
    "name": "ipython",
    "version": 2
   },
   "file_extension": ".py",
   "mimetype": "text/x-python",
   "name": "python",
   "nbconvert_exporter": "python",
   "pygments_lexer": "ipython2",
   "version": "2.7.11"
  }
 },
 "nbformat": 4,
 "nbformat_minor": 0
}
