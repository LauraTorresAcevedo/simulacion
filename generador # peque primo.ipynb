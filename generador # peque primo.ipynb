{
 "cells": [
  {
   "cell_type": "code",
   "execution_count": 2,
   "metadata": {
    "collapsed": false
   },
   "outputs": [
    {
     "name": "stdout",
     "output_type": "stream",
     "text": [
      "Ingrese constante multiplicativa: 1\n",
      "Ingrese la constante aditiva: 2\n",
      "Ingrese la semilla inicial: 10\n",
      "Cantidad de Numeros: 20\n",
      "n   Xo    (aXo + c)modm   Xn + 1     Numero Generado \n",
      "________________________________________________\n",
      "1   10     0  +   12/100      12        0.120000  \n",
      "2   12     0  +   14/100      14        0.140000  \n",
      "3   14     0  +   16/100      16        0.160000  \n",
      "4   16     0  +   18/100      18        0.180000  \n",
      "5   18     0  +   20/100      20        0.200000  \n",
      "6   20     0  +   22/100      22        0.220000  \n",
      "7   22     0  +   24/100      24        0.240000  \n",
      "8   24     0  +   26/100      26        0.260000  \n",
      "9   26     0  +   28/100      28        0.280000  \n",
      "10   28     0  +   30/100      30        0.300000  \n",
      "11   30     0  +   32/100      32        0.320000  \n",
      "12   32     0  +   34/100      34        0.340000  \n",
      "13   34     0  +   36/100      36        0.360000  \n",
      "14   36     0  +   38/100      38        0.380000  \n",
      "15   38     0  +   40/100      40        0.400000  \n",
      "16   40     0  +   42/100      42        0.420000  \n",
      "17   42     0  +   44/100      44        0.440000  \n",
      "18   44     0  +   46/100      46        0.460000  \n",
      "19   46     0  +   48/100      48        0.480000  \n",
      "20   48     0  +   50/100      50        0.500000  \n"
     ]
    }
   ],
   "source": [
    "import sys\n",
    "\n",
    "from matplotlib.pylab import hist, show\n",
    "dato=[]\n",
    "a = int (raw_input(\"Ingrese constante multiplicativa: \"))\n",
    "c = int (raw_input(\"Ingrese la constante aditiva: \"))\n",
    "m = 100\n",
    "xo= int (raw_input(\"Ingrese la semilla inicial: \"))\n",
    "cantidad = int(input(\"Cantidad de Numeros: \"))\n",
    "Xoinicial = xo\n",
    "\n",
    " \n",
    "print 'n   Xo    (aXo + c)modm   Xn + 1     Numero Generado '\n",
    "print \"________________________________________________\"\n",
    "for i in range (0,cantidad,1):\n",
    "    i += 1\n",
    "    div = ((a * xo) + c)/m\n",
    "    mod = ((a*xo)+c)%m\n",
    "    nr = float((mod+.0) / (m+.0))\n",
    "    print \"%d   %d     %d  +   %d/%d      %d        %f  \"%(i, xo, div, mod, m, mod, nr)\n",
    "    xo = mod\n",
    "    dato.append(nr)\n",
    "hist(dato,cantidad, (0,1))\n",
    "show()"
   ]
  },
  {
   "cell_type": "code",
   "execution_count": null,
   "metadata": {
    "collapsed": true
   },
   "outputs": [],
   "source": []
  }
 ],
 "metadata": {
  "kernelspec": {
   "display_name": "Python 2",
   "language": "python",
   "name": "python2"
  },
  "language_info": {
   "codemirror_mode": {
    "name": "ipython",
    "version": 2
   },
   "file_extension": ".py",
   "mimetype": "text/x-python",
   "name": "python",
   "nbconvert_exporter": "python",
   "pygments_lexer": "ipython2",
   "version": "2.7.11"
  }
 },
 "nbformat": 4,
 "nbformat_minor": 0
}
