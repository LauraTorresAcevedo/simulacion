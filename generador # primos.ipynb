{
 "cells": [
  {
   "cell_type": "code",
   "execution_count": null,
   "metadata": {
    "collapsed": true
   },
   "outputs": [],
   "source": [
    "import sys\n",
    "\n",
    "from matplotlib.pylab import hist, show\n",
    "dato=[]\n",
    "a = int (raw_input(\"Ingrese constante multiplicativa: \"))\n",
    "c = int (raw_input(\"Ingrese la constante aditiva: \"))\n",
    "m = 200\n",
    "xo= int (raw_input(\"Ingrese la semilla inicial: \"))\n",
    "cantidad = int(input(\"Cantidad de Numeros: \"))\n",
    "\n",
    "Xoinicial = xo\n",
    "\n",
    " \n",
    "print 'n    Xo    (aXo + c)modm      Xn + 1         Numero Generado '\n",
    "print \"________________________________________________\"\n",
    "for i in range (0,cantidad,1):\n",
    "    i += 1\n",
    "    div = ((a * xo) + c)/m\n",
    "    mod = ((a*xo)+c)%m\n",
    "    nr = float((mod+.0) / (m+.0))\n",
    "    \n",
    "    print \"%d   %d     %d  +   %d/%d      %d        %f  \"%(i, xo, div, mod, m, mod, nr)\n",
    "    xo = mod\n",
    "    dato.append(nr)\n",
    "hist(dato,cantidad, (0,1))\n",
    "show()"
   ]
  }
 ],
 "metadata": {
  "kernelspec": {
   "display_name": "Python 2",
   "language": "python",
   "name": "python2"
  },
  "language_info": {
   "codemirror_mode": {
    "name": "ipython",
    "version": 2
   },
   "file_extension": ".py",
   "mimetype": "text/x-python",
   "name": "python",
   "nbconvert_exporter": "python",
   "pygments_lexer": "ipython2",
   "version": "2.7.11"
  }
 },
 "nbformat": 4,
 "nbformat_minor": 0
}
