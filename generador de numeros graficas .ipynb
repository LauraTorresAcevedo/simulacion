{
 "cells": [
  {
   "cell_type": "code",
   "execution_count": 1,
   "metadata": {
    "collapsed": false
   },
   "outputs": [
    {
     "name": "stdout",
     "output_type": "stream",
     "text": [
      "Ingrese constante multiplicativa: 2\n",
      "Ingrese la constante aditiva: 4\n",
      "Ingrese el modulo: 32\n",
      "Ingrese la semilla inicial:  23\n",
      "Cantidad a calcular: 50\n",
      "n   Xo   (aXo + c) modm   Xn + 1   Numero Generado \n",
      "________________________________________________\n",
      "1   23     1  +   18/32      18        0.562500  \n",
      "2   18     1  +   8/32      8        0.250000  \n",
      "3   8     0  +   20/32      20        0.625000  \n",
      "4   20     1  +   12/32      12        0.375000  \n",
      "5   12     0  +   28/32      28        0.875000  \n",
      "6   28     1  +   28/32      28        0.875000  \n",
      "7   28     1  +   28/32      28        0.875000  \n",
      "8   28     1  +   28/32      28        0.875000  \n",
      "9   28     1  +   28/32      28        0.875000  \n",
      "10   28     1  +   28/32      28        0.875000  \n",
      "11   28     1  +   28/32      28        0.875000  \n",
      "12   28     1  +   28/32      28        0.875000  \n",
      "13   28     1  +   28/32      28        0.875000  \n",
      "14   28     1  +   28/32      28        0.875000  \n",
      "15   28     1  +   28/32      28        0.875000  \n",
      "16   28     1  +   28/32      28        0.875000  \n",
      "17   28     1  +   28/32      28        0.875000  \n",
      "18   28     1  +   28/32      28        0.875000  \n",
      "19   28     1  +   28/32      28        0.875000  \n",
      "20   28     1  +   28/32      28        0.875000  \n",
      "21   28     1  +   28/32      28        0.875000  \n",
      "22   28     1  +   28/32      28        0.875000  \n",
      "23   28     1  +   28/32      28        0.875000  \n",
      "24   28     1  +   28/32      28        0.875000  \n",
      "25   28     1  +   28/32      28        0.875000  \n",
      "26   28     1  +   28/32      28        0.875000  \n",
      "27   28     1  +   28/32      28        0.875000  \n",
      "28   28     1  +   28/32      28        0.875000  \n",
      "29   28     1  +   28/32      28        0.875000  \n",
      "30   28     1  +   28/32      28        0.875000  \n",
      "31   28     1  +   28/32      28        0.875000  \n",
      "32   28     1  +   28/32      28        0.875000  \n",
      "33   28     1  +   28/32      28        0.875000  \n",
      "34   28     1  +   28/32      28        0.875000  \n",
      "35   28     1  +   28/32      28        0.875000  \n",
      "36   28     1  +   28/32      28        0.875000  \n",
      "37   28     1  +   28/32      28        0.875000  \n",
      "38   28     1  +   28/32      28        0.875000  \n",
      "39   28     1  +   28/32      28        0.875000  \n",
      "40   28     1  +   28/32      28        0.875000  \n",
      "41   28     1  +   28/32      28        0.875000  \n",
      "42   28     1  +   28/32      28        0.875000  \n",
      "43   28     1  +   28/32      28        0.875000  \n",
      "44   28     1  +   28/32      28        0.875000  \n",
      "45   28     1  +   28/32      28        0.875000  \n",
      "46   28     1  +   28/32      28        0.875000  \n",
      "47   28     1  +   28/32      28        0.875000  \n",
      "48   28     1  +   28/32      28        0.875000  \n",
      "49   28     1  +   28/32      28        0.875000  \n",
      "50   28     1  +   28/32      28        0.875000  \n"
     ]
    }
   ],
   "source": [
    "import sys\n",
    "\n",
    "from matplotlib.pylab import hist, show\n",
    "dato=[]\n",
    "a = int (raw_input(\"Ingrese constante multiplicativa: \"))\n",
    "c = int (raw_input(\"Ingrese la constante aditiva: \"))\n",
    "m = int (raw_input(\"Ingrese el modulo: \"))\n",
    "xo= int (raw_input(\"Ingrese la semilla inicial:  \"))\n",
    "cantidad = int(input(\"Cantidad a calcular: \"))\n",
    "\n",
    "Xoinicial = xo\n",
    "\n",
    " \n",
    "print 'n   Xo   (aXo + c) modm   Xn + 1   Numero Generado '\n",
    "print \"________________________________________________\"\n",
    "for i in range (0,cantidad,1):\n",
    "    i += 1\n",
    "    div = ((a * xo) + c)/m\n",
    "    mod = ((a*xo)+c)%m\n",
    "    nr = float((mod+.0) / (m+.0))\n",
    "    print \"%d   %d     %d  +   %d/%d      %d        %f  \"%(i, xo, div, mod, m, mod, nr)\n",
    "    xo = mod\n",
    "    dato.append(nr)\n",
    "hist(dato,cantidad, (0,1))\n",
    "show()"
   ]
  },
  {
   "cell_type": "code",
   "execution_count": null,
   "metadata": {
    "collapsed": true
   },
   "outputs": [],
   "source": []
  }
 ],
 "metadata": {
  "kernelspec": {
   "display_name": "Python 2",
   "language": "python",
   "name": "python2"
  },
  "language_info": {
   "codemirror_mode": {
    "name": "ipython",
    "version": 2
   },
   "file_extension": ".py",
   "mimetype": "text/x-python",
   "name": "python",
   "nbconvert_exporter": "python",
   "pygments_lexer": "ipython2",
   "version": "2.7.11"
  }
 },
 "nbformat": 4,
 "nbformat_minor": 0
}
