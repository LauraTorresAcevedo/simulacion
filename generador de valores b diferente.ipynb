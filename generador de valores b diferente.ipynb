{
 "cells": [
  {
   "cell_type": "code",
   "execution_count": 6,
   "metadata": {
    "collapsed": false
   },
   "outputs": [
    {
     "name": "stdout",
     "output_type": "stream",
     "text": [
      "Ingrese constante multiplicativa: 23\n",
      "Ingrese el modulo 12\n",
      "Cantidad a calcular: 50\n",
      "Ingrese la semilla inicial: 20\n",
      "n   Xo   (aXo + c) modm   Xn + 1   Numero Generado \n",
      "________________________________________________\n",
      "1   20     40  +   5/12      5        0.416667  \n",
      "2   5     11  +   8/12      8        0.666667  \n",
      "3   8     17  +   5/12      5        0.416667  \n",
      "4   5     11  +   8/12      8        0.666667  \n",
      "5   8     17  +   5/12      5        0.416667  \n",
      "6   5     11  +   8/12      8        0.666667  \n",
      "7   8     17  +   5/12      5        0.416667  \n",
      "8   5     11  +   8/12      8        0.666667  \n",
      "9   8     17  +   5/12      5        0.416667  \n",
      "10   5     11  +   8/12      8        0.666667  \n",
      "11   8     17  +   5/12      5        0.416667  \n",
      "12   5     11  +   8/12      8        0.666667  \n",
      "13   8     17  +   5/12      5        0.416667  \n",
      "14   5     11  +   8/12      8        0.666667  \n",
      "15   8     17  +   5/12      5        0.416667  \n",
      "16   5     11  +   8/12      8        0.666667  \n",
      "17   8     17  +   5/12      5        0.416667  \n",
      "18   5     11  +   8/12      8        0.666667  \n",
      "19   8     17  +   5/12      5        0.416667  \n",
      "20   5     11  +   8/12      8        0.666667  \n",
      "21   8     17  +   5/12      5        0.416667  \n",
      "22   5     11  +   8/12      8        0.666667  \n",
      "23   8     17  +   5/12      5        0.416667  \n",
      "24   5     11  +   8/12      8        0.666667  \n",
      "25   8     17  +   5/12      5        0.416667  \n",
      "26   5     11  +   8/12      8        0.666667  \n",
      "27   8     17  +   5/12      5        0.416667  \n",
      "28   5     11  +   8/12      8        0.666667  \n",
      "29   8     17  +   5/12      5        0.416667  \n",
      "30   5     11  +   8/12      8        0.666667  \n",
      "31   8     17  +   5/12      5        0.416667  \n",
      "32   5     11  +   8/12      8        0.666667  \n",
      "33   8     17  +   5/12      5        0.416667  \n",
      "34   5     11  +   8/12      8        0.666667  \n",
      "35   8     17  +   5/12      5        0.416667  \n",
      "36   5     11  +   8/12      8        0.666667  \n",
      "37   8     17  +   5/12      5        0.416667  \n",
      "38   5     11  +   8/12      8        0.666667  \n",
      "39   8     17  +   5/12      5        0.416667  \n",
      "40   5     11  +   8/12      8        0.666667  \n",
      "41   8     17  +   5/12      5        0.416667  \n",
      "42   5     11  +   8/12      8        0.666667  \n",
      "43   8     17  +   5/12      5        0.416667  \n",
      "44   5     11  +   8/12      8        0.666667  \n",
      "45   8     17  +   5/12      5        0.416667  \n",
      "46   5     11  +   8/12      8        0.666667  \n",
      "47   8     17  +   5/12      5        0.416667  \n",
      "48   5     11  +   8/12      8        0.666667  \n",
      "49   8     17  +   5/12      5        0.416667  \n",
      "50   5     11  +   8/12      8        0.666667  \n"
     ]
    }
   ],
   "source": [
    "import sys\n",
    "\n",
    "from matplotlib.pylab import hist, show\n",
    "dato=[]\n",
    "a = int (raw_input(\"Ingrese constante multiplicativa: \"))\n",
    "c = 25\n",
    "m = int (raw_input(\"Ingrese el modulo \"))\n",
    "cantidad = int(input(\"Cantidad a calcular: \"))\n",
    "xo= int (raw_input(\"Ingrese la semilla inicial: \"))\n",
    "Xoinicial = xo\n",
    "\n",
    " \n",
    "print 'n   Xo   (aXo + c) modm   Xn + 1   Numero Generado '\n",
    "print \"________________________________________________\"\n",
    "for i in range (0,cantidad,1):\n",
    "    i += 1\n",
    "    div = ((a * xo) + c)/m\n",
    "    mod = ((a*xo)+c)%m\n",
    "    nr = float((mod+.0) / (m+.0))\n",
    "    print \"%d   %d     %d  +   %d/%d      %d        %f  \"%(i, xo, div, mod, m, mod, nr)\n",
    "    xo = mod\n",
    "    dato.append(nr)\n",
    "hist(dato,cantidad, (0,1))\n",
    "show()"
   ]
  },
  {
   "cell_type": "code",
   "execution_count": null,
   "metadata": {
    "collapsed": true
   },
   "outputs": [],
   "source": []
  }
 ],
 "metadata": {
  "kernelspec": {
   "display_name": "Python 2",
   "language": "python",
   "name": "python2"
  },
  "language_info": {
   "codemirror_mode": {
    "name": "ipython",
    "version": 2
   },
   "file_extension": ".py",
   "mimetype": "text/x-python",
   "name": "python",
   "nbconvert_exporter": "python",
   "pygments_lexer": "ipython2",
   "version": "2.7.11"
  }
 },
 "nbformat": 4,
 "nbformat_minor": 0
}
