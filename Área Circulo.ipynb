{
 "cells": [
  {
   "cell_type": "markdown",
   "metadata": {},
   "source": [
    "# Hallar el area cirulo"
   ]
  },
  {
   "cell_type": "markdown",
   "metadata": {
    "collapsed": true
   },
   "source": [
    "Usando los metodos de numeros aleatorios construidos anteriormente, \n",
    "intentaremos encontrar el area de un circulo\n",
    "llenando de puntos la region que lo conforma.   \n"
   ]
  },
  {
   "cell_type": "code",
   "execution_count": 5,
   "metadata": {
    "collapsed": false
   },
   "outputs": [
    {
     "name": "stdout",
     "output_type": "stream",
     "text": [
      "Digite el radio del circulo! 3\n",
      "digite 1 para Midsquare\n",
      "digite 2 para Congruencial\n",
      "Con cual metodo quiere simular el Area? 1\n"
     ]
    }
   ],
   "source": [
    "import numpy as np\n",
    "import matplotlib.pyplot as plt\n",
    "import math\n",
    "\n",
    "grafZAX = []; grafZAY = []; grafZBX = []; grafZBY = []\n",
    "\n",
    "def calcularArea(r, tipo):\n",
    "    r2 = r**2\n",
    "    if tipo == 2:\n",
    "        randX = randCm(234522465,3456,345634578,24556875,10000); randY = randCm(31435,52652,3645,245621234,10000)\n",
    "    else:\n",
    "        randX = randMs(2345224653,10000); randY = randMs(3124562347,10000)\n",
    "    N = 0\n",
    "    global grafZAX ;    global grafZAY  ;    global grafZBX ;    global grafZBY\n",
    "    areaAPX = 0\n",
    "    for i in range(len(randX)):\n",
    "        xy = ((randX[i]*2*r)-r)**2 + ((randY[i]*2*r)-r)**2\n",
    "        if r2 >= xy:\n",
    "            N += 1\n",
    "            grafZAX.append((randX[i]*2*r)-r)\n",
    "            grafZAY.append((randY[i]*2*r)-r)\n",
    "        else:            \n",
    "            grafZBX.append((randX[i]*2*r)-r)\n",
    "            grafZBY.append((randY[i]*2*r)-r)\n",
    "            \n",
    "    areaAPX = N/float(len(randX))*(2*r)**2\n",
    "    return areaAPX  #AREA APROXIMADA DEL CIRCULO\n",
    "\n",
    "def randMs(semilla, cantidad):\n",
    "    rand = [] ;    xn = semilla\n",
    "    for i in range(cantidad):\n",
    "\n",
    "        n = str(xn**2)\n",
    "        xn = str(xn)\n",
    "\n",
    "        if len(n)==2*len(xn): \n",
    "            y1=(len(xn)/2)\n",
    "            y2=y1+len(xn)\n",
    "            u=n[y1:y2]\n",
    "        else:            \n",
    "            y1=(len(xn)/2)-1\n",
    "            y2=y1+len(xn)\n",
    "            u = n[y1:y2]\n",
    "\n",
    "        if u == '':\n",
    "            for i in range(len(str(semilla))*2):\n",
    "                u += '0'\n",
    "\n",
    "        xn = int(u)\n",
    "        u = '0.'+u\n",
    "        rand.append(u)\n",
    "    return map(float, rand)\n",
    "        \n",
    "def randCm(a, m, b, x0, n):\n",
    "        xn = 0\n",
    "        un = 0\n",
    "        rand = []\n",
    "        for i in range(n):\n",
    "            xn = (a * x0 + b) % m\n",
    "            un = xn / float(m)\n",
    "            x0 = xn\n",
    "            rand.append(un)\n",
    "        return rand\n",
    "\n",
    "def graficar(r, areaAPX):\n",
    "    \n",
    "    \n",
    "    \n",
    "        fig, ax = plt.subplots()\n",
    "        ax.plot(grafZAX, grafZAY, 'o', color='yellow')\n",
    "        ax.plot(grafZBX, grafZBY, 'o', color='green')\n",
    "        an = np.linspace(0, 2*np.pi, 100)\n",
    "        plt.plot(r*np.cos(an), r*np.sin(an))\n",
    "        plt.axis('equal') ;  plt.axis([-r, r, -r, r])\n",
    "        area = math.pi*r**2 \n",
    "        error = abs(area-areaAPX)\n",
    "        suptitle = 'Area Aproximada: '+str(round(areaAPX*100)/100)+' Area Real: '+str(round(area*100)/100)+' % de Error: '+str(round(error*100)/100)\n",
    "        plt.suptitle('Area de Circulo Simulada', fontsize=22)\n",
    "        plt.title(suptitle, fontsize=16)\n",
    "\n",
    "        plt.show()\n",
    "\n",
    "r = input('Digite el radio del circulo! ')\n",
    "print \"digite 1 para Midsquare\"\n",
    "print \"digite 2 para Congruencial\"\n",
    "tipo = input(\"Con cual metodo quiere simular el Area? \")\n",
    "areaAPX = calcularArea(r, tipo)\n",
    "graficar(r, areaAPX)\n"
   ]
  },
  {
   "cell_type": "code",
   "execution_count": null,
   "metadata": {
    "collapsed": true
   },
   "outputs": [],
   "source": []
  }
 ],
 "metadata": {
  "kernelspec": {
   "display_name": "Python 2",
   "language": "python",
   "name": "python2"
  },
  "language_info": {
   "codemirror_mode": {
    "name": "ipython",
    "version": 2
   },
   "file_extension": ".py",
   "mimetype": "text/x-python",
   "name": "python",
   "nbconvert_exporter": "python",
   "pygments_lexer": "ipython2",
   "version": "2.7.11"
  }
 },
 "nbformat": 4,
 "nbformat_minor": 0
}
